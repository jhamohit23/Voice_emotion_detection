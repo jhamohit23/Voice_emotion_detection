{
 "cells": [
  {
   "cell_type": "code",
   "execution_count": 1,
   "id": "68faf831",
   "metadata": {},
   "outputs": [],
   "source": [
    "# Importing necessary libraries\n",
    "import os\n",
    "import numpy as np\n",
    "import pandas as pd\n",
    "import librosa\n",
    "import librosa.display\n",
    "import matplotlib.pyplot as plt\n",
    "from sklearn.model_selection import train_test_split\n",
    "from sklearn.preprocessing import LabelEncoder\n",
    "from tensorflow.keras.utils import to_categorical\n",
    "from tensorflow.keras.models import Sequential\n",
    "from tensorflow.keras.layers import Dense, LSTM, Dropout\n",
    "from tensorflow.keras.callbacks import ModelCheckpoint"
   ]
  },
  {
   "cell_type": "code",
   "execution_count": 2,
   "id": "a4dae11e",
   "metadata": {},
   "outputs": [],
   "source": [
    "# Setting random seed for reproducibility\n",
    "np.random.seed(42)"
   ]
  },
  {
   "cell_type": "code",
   "execution_count": 7,
   "id": "dd4789be",
   "metadata": {},
   "outputs": [],
   "source": [
    "# Function to extract features from audio\n",
    "def extract_features(file_path, mfcc=True, chroma=True, mel=True):\n",
    "    X, sample_rate = librosa.load(file_path, res_type='kaiser_fast')\n",
    "    features = []\n",
    "    \n",
    "    if mfcc:\n",
    "        mfccs = np.mean(librosa.feature.mfcc(y=X, sr=sample_rate, n_mfcc=40).T, axis=0)\n",
    "        features.append(mfccs)\n",
    "    \n",
    "    if chroma:\n",
    "        chroma = np.mean(librosa.feature.chroma_stft(y=X, sr=sample_rate).T, axis=0)\n",
    "        features.append(chroma)\n",
    "    \n",
    "    if mel:\n",
    "        mel = np.mean(librosa.feature.melspectrogram(y=X, sr=sample_rate).T, axis=0)\n",
    "        features.append(mel)\n",
    "    \n",
    "    return np.hstack(features) if features else np.array([])"
   ]
  },
  {
   "cell_type": "code",
   "execution_count": 8,
   "id": "b33ae959",
   "metadata": {},
   "outputs": [],
   "source": [
    "# Paths to your datasets\n",
    "ravdess_path = 'C:/Users/Dell\\OneDrive/Desktop/Voice_emotion_detection/ravdess'\n",
    "tess_path = 'C:/Users/Dell/OneDrive/Desktop/Voice_emotion_detection/tess'"
   ]
  },
  {
   "cell_type": "code",
   "execution_count": 9,
   "id": "8a00582b",
   "metadata": {},
   "outputs": [],
   "source": [
    "# Lists to store data\n",
    "X, y = [], []\n",
    "male_nonemotional_X = []"
   ]
  },
  {
   "cell_type": "code",
   "execution_count": 10,
   "id": "de2a103a",
   "metadata": {},
   "outputs": [],
   "source": [
    "# Process RAVDESS dataset\n",
    "for actor in os.listdir(ravdess_path):\n",
    "    if actor.startswith('Actor_') and int(actor[-2:]) % 2 == 0:  # Even numbers are female\n",
    "        for file in os.listdir(os.path.join(ravdess_path, actor)):\n",
    "            emotion = file.split('-')[2]\n",
    "            if emotion == '01':  # Neutral\n",
    "                continue\n",
    "            emotion_map = {'02': 'calm', '03': 'happy', '04': 'sad', '05': 'angry', '06': 'fearful', '07': 'disgust', '08': 'surprised'}\n",
    "            emotion_label = emotion_map[emotion]\n",
    "            file_path = os.path.join(ravdess_path, actor, file)\n",
    "            features = extract_features(file_path)\n",
    "            X.append(features)\n",
    "            y.append(emotion_label)"
   ]
  },
  {
   "cell_type": "code",
   "execution_count": null,
   "id": "8eb4ea41",
   "metadata": {},
   "outputs": [],
   "source": []
  }
 ],
 "metadata": {
  "kernelspec": {
   "display_name": "Python 3 (ipykernel)",
   "language": "python",
   "name": "python3"
  },
  "language_info": {
   "codemirror_mode": {
    "name": "ipython",
    "version": 3
   },
   "file_extension": ".py",
   "mimetype": "text/x-python",
   "name": "python",
   "nbconvert_exporter": "python",
   "pygments_lexer": "ipython3",
   "version": "3.11.4"
  }
 },
 "nbformat": 4,
 "nbformat_minor": 5
}
