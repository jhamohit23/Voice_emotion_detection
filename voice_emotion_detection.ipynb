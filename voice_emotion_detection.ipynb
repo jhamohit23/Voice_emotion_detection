{
 "cells": [
  {
   "cell_type": "code",
   "execution_count": 73,
   "id": "68faf831",
   "metadata": {},
   "outputs": [],
   "source": [
    "# Importing necessary libraries\n",
    "import os\n",
    "import numpy as np\n",
    "import pandas as pd\n",
    "import librosa\n",
    "import librosa.display\n",
    "import matplotlib.pyplot as plt\n",
    "from sklearn.model_selection import train_test_split\n",
    "from sklearn.preprocessing import LabelEncoder\n",
    "from tensorflow.keras.utils import to_categorical\n",
    "from tensorflow.keras.models import Sequential\n",
    "from tensorflow.keras.layers import Dense, LSTM, Dropout\n",
    "from tensorflow.keras.callbacks import ModelCheckpoint\n",
    "from sklearn.utils import class_weight\n",
    "from tensorflow.keras.callbacks import EarlyStopping"
   ]
  },
  {
   "cell_type": "code",
   "execution_count": 74,
   "id": "a4dae11e",
   "metadata": {},
   "outputs": [],
   "source": [
    "# Setting random seed for reproducibility\n",
    "np.random.seed(42)"
   ]
  },
  {
   "cell_type": "code",
   "execution_count": 75,
   "id": "dd4789be",
   "metadata": {},
   "outputs": [],
   "source": [
    "# Function to extract features from audio\n",
    "def extract_features(file_path, mfcc=True, chroma=True, mel=True):\n",
    "    X, sample_rate = librosa.load(file_path, res_type='kaiser_fast')\n",
    "    features = []\n",
    "    \n",
    "    if mfcc:\n",
    "        mfccs = np.mean(librosa.feature.mfcc(y=X, sr=sample_rate, n_mfcc=40).T, axis=0)\n",
    "        features.append(mfccs)\n",
    "    \n",
    "    if chroma:\n",
    "        chroma = np.mean(librosa.feature.chroma_stft(y=X, sr=sample_rate).T, axis=0)\n",
    "        features.append(chroma)\n",
    "    \n",
    "    if mel:\n",
    "        mel = np.mean(librosa.feature.melspectrogram(y=X, sr=sample_rate).T, axis=0)\n",
    "        features.append(mel)\n",
    "    \n",
    "    return np.hstack(features) if features else np.array([])"
   ]
  },
  {
   "cell_type": "code",
   "execution_count": 76,
   "id": "b33ae959",
   "metadata": {},
   "outputs": [],
   "source": [
    "# Paths to your datasets\n",
    "ravdess_path = 'C:/Users/Dell\\OneDrive/Desktop/Voice_emotion_detection/ravdess'\n",
    "tess_path = 'C:/Users/Dell/OneDrive/Desktop/Voice_emotion_detection/tess'"
   ]
  },
  {
   "cell_type": "code",
   "execution_count": 77,
   "id": "8a00582b",
   "metadata": {},
   "outputs": [],
   "source": [
    "# Lists to store data\n",
    "X, y = [], []"
   ]
  },
  {
   "cell_type": "code",
   "execution_count": 78,
   "id": "de2a103a",
   "metadata": {},
   "outputs": [],
   "source": [
    "# Process RAVDESS dataset\n",
    "for actor in os.listdir(ravdess_path):\n",
    "    if actor.startswith('Actor_') and int(actor[-2:]) % 2 == 0:  # Even numbers are female\n",
    "        for file in os.listdir(os.path.join(ravdess_path, actor)):\n",
    "            emotion = file.split('-')[2]\n",
    "            if emotion == '01':  # Neutral\n",
    "                continue\n",
    "            emotion_map = {'02': 'calm', '03': 'happy', '04': 'sad', '05': 'angry', '06': 'fearful', '07': 'disgust', '08': 'surprised'}\n",
    "            emotion_label = emotion_map[emotion]\n",
    "            file_path = os.path.join(ravdess_path, actor, file)\n",
    "            features = extract_features(file_path)\n",
    "            X.append(features)\n",
    "            y.append(emotion_label)"
   ]
  },
  {
   "cell_type": "code",
   "execution_count": 79,
   "id": "8eb4ea41",
   "metadata": {},
   "outputs": [],
   "source": [
    "# Process TESS dataset\n",
    "for file in os.listdir(tess_path):\n",
    "    if file.endswith('.wav'):\n",
    "        emotion = file.split('_')[-1].split('.')[0]\n",
    "        if emotion in ['angry', 'disgust', 'fear', 'happy', 'sad', 'surprise', 'neutral']:\n",
    "            file_path = os.path.join(tess_path, file)\n",
    "            features = extract_features(file_path)\n",
    "            X.append(features)\n",
    "            y.append(emotion)"
   ]
  },
  {
   "cell_type": "code",
   "execution_count": 80,
   "id": "d98a334f",
   "metadata": {},
   "outputs": [],
   "source": [
    "# Convert lists to numpy arrays\n",
    "X = np.array(X)\n",
    "y = np.array(y)"
   ]
  },
  {
   "cell_type": "code",
   "execution_count": 81,
   "id": "4c8dc06a",
   "metadata": {},
   "outputs": [],
   "source": [
    "# Encode labels\n",
    "label_encoder = LabelEncoder()\n",
    "y = to_categorical(label_encoder.fit_transform(y))"
   ]
  },
  {
   "cell_type": "code",
   "execution_count": 82,
   "id": "08c2a8a2",
   "metadata": {},
   "outputs": [],
   "source": [
    "class_distribution = np.sum(y_train, axis=0)\n",
    "class_distribution = class_distribution / y_train.shape[0]"
   ]
  },
  {
   "cell_type": "code",
   "execution_count": 83,
   "id": "dabc16dd",
   "metadata": {},
   "outputs": [],
   "source": [
    "class_weights = 1 / class_distribution\n",
    "class_weights = dict(enumerate(class_weights))"
   ]
  },
  {
   "cell_type": "code",
   "execution_count": 84,
   "id": "26c97ff3",
   "metadata": {},
   "outputs": [],
   "source": [
    "# Split the data\n",
    "X_train, X_test, y_train, y_test = train_test_split(X, y, test_size=0.2, random_state=42)"
   ]
  },
  {
   "cell_type": "code",
   "execution_count": 85,
   "id": "cb44b3e2",
   "metadata": {},
   "outputs": [],
   "source": [
    "# Normalize the data\n",
    "mean = X_train.mean(axis=0)\n",
    "std = X_train.std(axis=0)\n",
    "X_train = (X_train - mean) / std\n",
    "X_test = (X_test - mean) / std"
   ]
  },
  {
   "cell_type": "code",
   "execution_count": 86,
   "id": "2cc0d94e",
   "metadata": {},
   "outputs": [
    {
     "name": "stderr",
     "output_type": "stream",
     "text": [
      "C:\\Users\\Dell\\AppData\\Local\\Programs\\Python\\Python311\\Lib\\site-packages\\keras\\src\\layers\\rnn\\rnn.py:204: UserWarning: Do not pass an `input_shape`/`input_dim` argument to a layer. When using Sequential models, prefer using an `Input(shape)` object as the first layer in the model instead.\n",
      "  super().__init__(**kwargs)\n"
     ]
    }
   ],
   "source": [
    "# Build the model\n",
    "model = Sequential([\n",
    "    LSTM(256, input_shape=(X.shape[1], 1), return_sequences=True),\n",
    "    Dropout(0.3),\n",
    "    LSTM(128, return_sequences=True),\n",
    "    Dropout(0.3),\n",
    "    LSTM(64),\n",
    "    Dropout(0.3),\n",
    "    Dense(32, activation='relu'),\n",
    "    Dense(y.shape[1], activation='softmax')\n",
    "])"
   ]
  },
  {
   "cell_type": "code",
   "execution_count": 87,
   "id": "d8727219",
   "metadata": {},
   "outputs": [],
   "source": [
    "model.compile(optimizer='adam', loss='categorical_crossentropy', metrics=['accuracy'])"
   ]
  },
  {
   "cell_type": "code",
   "execution_count": 88,
   "id": "f75e5276",
   "metadata": {},
   "outputs": [
    {
     "name": "stdout",
     "output_type": "stream",
     "text": [
      "Epoch 1/100\n",
      "\u001b[1m77/77\u001b[0m \u001b[32m━━━━━━━━━━━━━━━━━━━━\u001b[0m\u001b[37m\u001b[0m \u001b[1m25s\u001b[0m 285ms/step - accuracy: 0.2034 - loss: 18.4894 - val_accuracy: 0.2374 - val_loss: 1.9517\n",
      "Epoch 2/100\n",
      "\u001b[1m77/77\u001b[0m \u001b[32m━━━━━━━━━━━━━━━━━━━━\u001b[0m\u001b[37m\u001b[0m \u001b[1m22s\u001b[0m 291ms/step - accuracy: 0.2427 - loss: 17.6915 - val_accuracy: 0.2390 - val_loss: 1.8675\n",
      "Epoch 3/100\n",
      "\u001b[1m77/77\u001b[0m \u001b[32m━━━━━━━━━━━━━━━━━━━━\u001b[0m\u001b[37m\u001b[0m \u001b[1m26s\u001b[0m 338ms/step - accuracy: 0.2277 - loss: 18.2420 - val_accuracy: 0.3317 - val_loss: 1.7728\n",
      "Epoch 4/100\n",
      "\u001b[1m77/77\u001b[0m \u001b[32m━━━━━━━━━━━━━━━━━━━━\u001b[0m\u001b[37m\u001b[0m \u001b[1m25s\u001b[0m 327ms/step - accuracy: 0.3277 - loss: 16.7459 - val_accuracy: 0.3106 - val_loss: 1.8059\n",
      "Epoch 5/100\n",
      "\u001b[1m77/77\u001b[0m \u001b[32m━━━━━━━━━━━━━━━━━━━━\u001b[0m\u001b[37m\u001b[0m \u001b[1m22s\u001b[0m 283ms/step - accuracy: 0.3271 - loss: 16.4184 - val_accuracy: 0.3415 - val_loss: 1.6573\n",
      "Epoch 6/100\n",
      "\u001b[1m77/77\u001b[0m \u001b[32m━━━━━━━━━━━━━━━━━━━━\u001b[0m\u001b[37m\u001b[0m \u001b[1m25s\u001b[0m 322ms/step - accuracy: 0.3408 - loss: 15.6399 - val_accuracy: 0.3252 - val_loss: 1.7134\n",
      "Epoch 7/100\n",
      "\u001b[1m77/77\u001b[0m \u001b[32m━━━━━━━━━━━━━━━━━━━━\u001b[0m\u001b[37m\u001b[0m \u001b[1m24s\u001b[0m 312ms/step - accuracy: 0.3331 - loss: 15.5057 - val_accuracy: 0.3675 - val_loss: 1.5588\n",
      "Epoch 8/100\n",
      "\u001b[1m77/77\u001b[0m \u001b[32m━━━━━━━━━━━━━━━━━━━━\u001b[0m\u001b[37m\u001b[0m \u001b[1m26s\u001b[0m 342ms/step - accuracy: 0.3772 - loss: 14.2697 - val_accuracy: 0.4081 - val_loss: 1.4954\n",
      "Epoch 9/100\n",
      "\u001b[1m77/77\u001b[0m \u001b[32m━━━━━━━━━━━━━━━━━━━━\u001b[0m\u001b[37m\u001b[0m \u001b[1m27s\u001b[0m 355ms/step - accuracy: 0.3845 - loss: 14.7381 - val_accuracy: 0.4618 - val_loss: 1.4401\n",
      "Epoch 10/100\n",
      "\u001b[1m77/77\u001b[0m \u001b[32m━━━━━━━━━━━━━━━━━━━━\u001b[0m\u001b[37m\u001b[0m \u001b[1m26s\u001b[0m 343ms/step - accuracy: 0.4070 - loss: 14.2678 - val_accuracy: 0.4276 - val_loss: 1.4603\n",
      "Epoch 11/100\n",
      "\u001b[1m77/77\u001b[0m \u001b[32m━━━━━━━━━━━━━━━━━━━━\u001b[0m\u001b[37m\u001b[0m \u001b[1m26s\u001b[0m 335ms/step - accuracy: 0.4551 - loss: 13.4302 - val_accuracy: 0.4797 - val_loss: 1.3848\n",
      "Epoch 12/100\n",
      "\u001b[1m77/77\u001b[0m \u001b[32m━━━━━━━━━━━━━━━━━━━━\u001b[0m\u001b[37m\u001b[0m \u001b[1m26s\u001b[0m 341ms/step - accuracy: 0.4433 - loss: 13.5926 - val_accuracy: 0.4683 - val_loss: 1.3674\n",
      "Epoch 13/100\n",
      "\u001b[1m77/77\u001b[0m \u001b[32m━━━━━━━━━━━━━━━━━━━━\u001b[0m\u001b[37m\u001b[0m \u001b[1m25s\u001b[0m 331ms/step - accuracy: 0.4905 - loss: 13.4242 - val_accuracy: 0.4065 - val_loss: 1.5606\n",
      "Epoch 14/100\n",
      "\u001b[1m77/77\u001b[0m \u001b[32m━━━━━━━━━━━━━━━━━━━━\u001b[0m\u001b[37m\u001b[0m \u001b[1m26s\u001b[0m 334ms/step - accuracy: 0.4571 - loss: 12.9816 - val_accuracy: 0.4569 - val_loss: 1.4302\n",
      "Epoch 15/100\n",
      "\u001b[1m77/77\u001b[0m \u001b[32m━━━━━━━━━━━━━━━━━━━━\u001b[0m\u001b[37m\u001b[0m \u001b[1m25s\u001b[0m 322ms/step - accuracy: 0.4691 - loss: 13.4139 - val_accuracy: 0.4764 - val_loss: 1.4290\n",
      "Epoch 16/100\n",
      "\u001b[1m77/77\u001b[0m \u001b[32m━━━━━━━━━━━━━━━━━━━━\u001b[0m\u001b[37m\u001b[0m \u001b[1m23s\u001b[0m 298ms/step - accuracy: 0.4003 - loss: 15.1789 - val_accuracy: 0.4179 - val_loss: 1.4980\n",
      "Epoch 17/100\n",
      "\u001b[1m77/77\u001b[0m \u001b[32m━━━━━━━━━━━━━━━━━━━━\u001b[0m\u001b[37m\u001b[0m \u001b[1m25s\u001b[0m 322ms/step - accuracy: 0.4422 - loss: 13.3435 - val_accuracy: 0.5073 - val_loss: 1.3127\n",
      "Epoch 18/100\n",
      "\u001b[1m77/77\u001b[0m \u001b[32m━━━━━━━━━━━━━━━━━━━━\u001b[0m\u001b[37m\u001b[0m \u001b[1m27s\u001b[0m 352ms/step - accuracy: 0.4912 - loss: 12.8088 - val_accuracy: 0.5187 - val_loss: 1.3547\n",
      "Epoch 19/100\n",
      "\u001b[1m77/77\u001b[0m \u001b[32m━━━━━━━━━━━━━━━━━━━━\u001b[0m\u001b[37m\u001b[0m \u001b[1m27s\u001b[0m 349ms/step - accuracy: 0.5344 - loss: 11.9776 - val_accuracy: 0.5057 - val_loss: 1.4117\n",
      "Epoch 20/100\n",
      "\u001b[1m77/77\u001b[0m \u001b[32m━━━━━━━━━━━━━━━━━━━━\u001b[0m\u001b[37m\u001b[0m \u001b[1m27s\u001b[0m 351ms/step - accuracy: 0.4988 - loss: 13.0361 - val_accuracy: 0.5285 - val_loss: 1.2966\n",
      "Epoch 21/100\n",
      "\u001b[1m77/77\u001b[0m \u001b[32m━━━━━━━━━━━━━━━━━━━━\u001b[0m\u001b[37m\u001b[0m \u001b[1m27s\u001b[0m 353ms/step - accuracy: 0.5301 - loss: 11.9546 - val_accuracy: 0.5236 - val_loss: 1.2892\n",
      "Epoch 22/100\n",
      "\u001b[1m77/77\u001b[0m \u001b[32m━━━━━━━━━━━━━━━━━━━━\u001b[0m\u001b[37m\u001b[0m \u001b[1m26s\u001b[0m 338ms/step - accuracy: 0.5036 - loss: 12.2922 - val_accuracy: 0.4797 - val_loss: 1.4495\n",
      "Epoch 23/100\n",
      "\u001b[1m77/77\u001b[0m \u001b[32m━━━━━━━━━━━━━━━━━━━━\u001b[0m\u001b[37m\u001b[0m \u001b[1m22s\u001b[0m 289ms/step - accuracy: 0.4794 - loss: 12.7422 - val_accuracy: 0.5447 - val_loss: 1.2490\n",
      "Epoch 24/100\n",
      "\u001b[1m77/77\u001b[0m \u001b[32m━━━━━━━━━━━━━━━━━━━━\u001b[0m\u001b[37m\u001b[0m \u001b[1m22s\u001b[0m 292ms/step - accuracy: 0.5146 - loss: 12.4093 - val_accuracy: 0.4764 - val_loss: 1.3224\n",
      "Epoch 25/100\n",
      "\u001b[1m77/77\u001b[0m \u001b[32m━━━━━━━━━━━━━━━━━━━━\u001b[0m\u001b[37m\u001b[0m \u001b[1m22s\u001b[0m 283ms/step - accuracy: 0.5162 - loss: 11.8544 - val_accuracy: 0.5138 - val_loss: 1.3512\n",
      "Epoch 26/100\n",
      "\u001b[1m77/77\u001b[0m \u001b[32m━━━━━━━━━━━━━━━━━━━━\u001b[0m\u001b[37m\u001b[0m \u001b[1m22s\u001b[0m 282ms/step - accuracy: 0.5322 - loss: 11.6383 - val_accuracy: 0.5154 - val_loss: 1.3633\n",
      "Epoch 27/100\n",
      "\u001b[1m77/77\u001b[0m \u001b[32m━━━━━━━━━━━━━━━━━━━━\u001b[0m\u001b[37m\u001b[0m \u001b[1m22s\u001b[0m 280ms/step - accuracy: 0.5153 - loss: 12.5877 - val_accuracy: 0.5382 - val_loss: 1.2403\n",
      "Epoch 28/100\n",
      "\u001b[1m77/77\u001b[0m \u001b[32m━━━━━━━━━━━━━━━━━━━━\u001b[0m\u001b[37m\u001b[0m \u001b[1m22s\u001b[0m 282ms/step - accuracy: 0.5464 - loss: 11.6523 - val_accuracy: 0.5691 - val_loss: 1.2187\n",
      "Epoch 29/100\n",
      "\u001b[1m77/77\u001b[0m \u001b[32m━━━━━━━━━━━━━━━━━━━━\u001b[0m\u001b[37m\u001b[0m \u001b[1m22s\u001b[0m 286ms/step - accuracy: 0.5477 - loss: 11.2553 - val_accuracy: 0.5691 - val_loss: 1.2018\n",
      "Epoch 30/100\n",
      "\u001b[1m77/77\u001b[0m \u001b[32m━━━━━━━━━━━━━━━━━━━━\u001b[0m\u001b[37m\u001b[0m \u001b[1m22s\u001b[0m 285ms/step - accuracy: 0.5650 - loss: 10.7765 - val_accuracy: 0.5220 - val_loss: 1.3552\n",
      "Epoch 31/100\n",
      "\u001b[1m77/77\u001b[0m \u001b[32m━━━━━━━━━━━━━━━━━━━━\u001b[0m\u001b[37m\u001b[0m \u001b[1m22s\u001b[0m 283ms/step - accuracy: 0.5628 - loss: 11.6900 - val_accuracy: 0.5512 - val_loss: 1.2838\n",
      "Epoch 32/100\n",
      "\u001b[1m77/77\u001b[0m \u001b[32m━━━━━━━━━━━━━━━━━━━━\u001b[0m\u001b[37m\u001b[0m \u001b[1m22s\u001b[0m 284ms/step - accuracy: 0.5553 - loss: 11.1270 - val_accuracy: 0.5919 - val_loss: 1.1281\n",
      "Epoch 33/100\n",
      "\u001b[1m77/77\u001b[0m \u001b[32m━━━━━━━━━━━━━━━━━━━━\u001b[0m\u001b[37m\u001b[0m \u001b[1m22s\u001b[0m 283ms/step - accuracy: 0.6098 - loss: 10.0819 - val_accuracy: 0.5724 - val_loss: 1.2125\n",
      "Epoch 34/100\n",
      "\u001b[1m77/77\u001b[0m \u001b[32m━━━━━━━━━━━━━━━━━━━━\u001b[0m\u001b[37m\u001b[0m \u001b[1m22s\u001b[0m 286ms/step - accuracy: 0.5809 - loss: 10.4741 - val_accuracy: 0.5431 - val_loss: 1.2509\n",
      "Epoch 35/100\n",
      "\u001b[1m77/77\u001b[0m \u001b[32m━━━━━━━━━━━━━━━━━━━━\u001b[0m\u001b[37m\u001b[0m \u001b[1m22s\u001b[0m 282ms/step - accuracy: 0.6071 - loss: 10.4544 - val_accuracy: 0.6081 - val_loss: 1.1017\n",
      "Epoch 36/100\n",
      "\u001b[1m77/77\u001b[0m \u001b[32m━━━━━━━━━━━━━━━━━━━━\u001b[0m\u001b[37m\u001b[0m \u001b[1m22s\u001b[0m 292ms/step - accuracy: 0.5948 - loss: 10.7167 - val_accuracy: 0.3382 - val_loss: 1.6873\n",
      "Epoch 37/100\n",
      "\u001b[1m77/77\u001b[0m \u001b[32m━━━━━━━━━━━━━━━━━━━━\u001b[0m\u001b[37m\u001b[0m \u001b[1m24s\u001b[0m 311ms/step - accuracy: 0.4816 - loss: 12.3858 - val_accuracy: 0.5496 - val_loss: 1.2346\n",
      "Epoch 38/100\n",
      "\u001b[1m77/77\u001b[0m \u001b[32m━━━━━━━━━━━━━━━━━━━━\u001b[0m\u001b[37m\u001b[0m \u001b[1m23s\u001b[0m 292ms/step - accuracy: 0.5813 - loss: 10.7820 - val_accuracy: 0.6358 - val_loss: 1.1108\n",
      "Epoch 39/100\n",
      "\u001b[1m77/77\u001b[0m \u001b[32m━━━━━━━━━━━━━━━━━━━━\u001b[0m\u001b[37m\u001b[0m \u001b[1m22s\u001b[0m 284ms/step - accuracy: 0.5804 - loss: 10.9337 - val_accuracy: 0.5886 - val_loss: 1.1324\n",
      "Epoch 40/100\n",
      "\u001b[1m77/77\u001b[0m \u001b[32m━━━━━━━━━━━━━━━━━━━━\u001b[0m\u001b[37m\u001b[0m \u001b[1m23s\u001b[0m 305ms/step - accuracy: 0.5835 - loss: 11.0985 - val_accuracy: 0.6341 - val_loss: 1.0850\n",
      "Epoch 41/100\n",
      "\u001b[1m77/77\u001b[0m \u001b[32m━━━━━━━━━━━━━━━━━━━━\u001b[0m\u001b[37m\u001b[0m \u001b[1m23s\u001b[0m 299ms/step - accuracy: 0.6552 - loss: 9.7664 - val_accuracy: 0.5967 - val_loss: 1.1363\n",
      "Epoch 42/100\n",
      "\u001b[1m77/77\u001b[0m \u001b[32m━━━━━━━━━━━━━━━━━━━━\u001b[0m\u001b[37m\u001b[0m \u001b[1m23s\u001b[0m 296ms/step - accuracy: 0.6206 - loss: 9.3774 - val_accuracy: 0.6520 - val_loss: 1.0404\n",
      "Epoch 43/100\n",
      "\u001b[1m77/77\u001b[0m \u001b[32m━━━━━━━━━━━━━━━━━━━━\u001b[0m\u001b[37m\u001b[0m \u001b[1m22s\u001b[0m 285ms/step - accuracy: 0.6350 - loss: 9.8064 - val_accuracy: 0.6016 - val_loss: 1.1798\n",
      "Epoch 44/100\n",
      "\u001b[1m77/77\u001b[0m \u001b[32m━━━━━━━━━━━━━━━━━━━━\u001b[0m\u001b[37m\u001b[0m \u001b[1m22s\u001b[0m 288ms/step - accuracy: 0.6307 - loss: 10.1856 - val_accuracy: 0.6309 - val_loss: 1.0570\n",
      "Epoch 45/100\n",
      "\u001b[1m77/77\u001b[0m \u001b[32m━━━━━━━━━━━━━━━━━━━━\u001b[0m\u001b[37m\u001b[0m \u001b[1m22s\u001b[0m 287ms/step - accuracy: 0.6578 - loss: 9.1163 - val_accuracy: 0.6407 - val_loss: 1.0745\n",
      "Epoch 46/100\n",
      "\u001b[1m77/77\u001b[0m \u001b[32m━━━━━━━━━━━━━━━━━━━━\u001b[0m\u001b[37m\u001b[0m \u001b[1m22s\u001b[0m 285ms/step - accuracy: 0.5958 - loss: 10.9013 - val_accuracy: 0.6016 - val_loss: 1.1256\n",
      "Epoch 47/100\n",
      "\u001b[1m77/77\u001b[0m \u001b[32m━━━━━━━━━━━━━━━━━━━━\u001b[0m\u001b[37m\u001b[0m \u001b[1m22s\u001b[0m 284ms/step - accuracy: 0.5283 - loss: 12.2862 - val_accuracy: 0.6374 - val_loss: 1.0632\n"
     ]
    }
   ],
   "source": [
    "# Train the model\n",
    "# Import necessary library\n",
    "from tensorflow.keras.callbacks import ModelCheckpoint\n",
    "\n",
    "# Update the file extension to .keras\n",
    "checkpoint = ModelCheckpoint('best_model.keras', monitor='val_accuracy', save_best_only=True, mode='max', verbose=1)\n",
    "\n",
    "# Train the model\n",
    "early_stop = EarlyStopping(monitor='val_loss', patience=5, restore_best_weights=True)\n",
    "history = model.fit(X_train.reshape(X_train.shape[0], X_train.shape[1], 1), y_train,\n",
    "                    validation_data=(X_test.reshape(X_test.shape[0], X_test.shape[1], 1), y_test),\n",
    "                    epochs=100, batch_size=32, class_weight=class_weights, callbacks=[early_stop])"
   ]
  },
  {
   "cell_type": "code",
   "execution_count": 89,
   "id": "aa3f8e5c",
   "metadata": {},
   "outputs": [
    {
     "data": {
      "text/plain": [
       "<matplotlib.legend.Legend at 0x1e3f3cf0a50>"
      ]
     },
     "execution_count": 89,
     "metadata": {},
     "output_type": "execute_result"
    },
    {
     "data": {
      "image/png": "[encoded data removed]",
      "text/plain": [
       "<Figure size 1000x500 with 1 Axes>"
      ]
     },
     "metadata": {},
     "output_type": "display_data"
    }
   ],
   "source": [
    "# Plot the training history\n",
    "plt.figure(figsize=(10, 5))\n",
    "plt.subplot(1, 2, 1)\n",
    "plt.plot(history.history['accuracy'], label='train')\n",
    "plt.plot(history.history['val_accuracy'], label='test')\n",
    "plt.title('Accuracy')\n",
    "plt.xlabel('Epochs')\n",
    "plt.ylabel('Accuracy')\n",
    "plt.legend()"
   ]
  },
  {
   "cell_type": "code",
   "execution_count": 90,
   "id": "04f549f0",
   "metadata": {},
   "outputs": [
    {
     "data": {
      "image/png": "[encoded data removed]",
      "text/plain": [
       "<Figure size 640x480 with 1 Axes>"
      ]
     },
     "metadata": {},
     "output_type": "display_data"
    }
   ],
   "source": [
    "plt.subplot(1, 2, 2)\n",
    "plt.plot(history.history['loss'], label='train')\n",
    "plt.plot(history.history['val_loss'], label='test')\n",
    "plt.title('Loss')\n",
    "plt.xlabel('Epochs')\n",
    "plt.ylabel('Loss')\n",
    "plt.legend()\n",
    "plt.show()"
   ]
  },
  {
   "cell_type": "code",
   "execution_count": 91,
   "id": "b4f215fc",
   "metadata": {},
   "outputs": [
    {
     "name": "stdout",
     "output_type": "stream",
     "text": [
      "\u001b[1m20/20\u001b[0m \u001b[32m━━━━━━━━━━━━━━━━━━━━\u001b[0m\u001b[37m\u001b[0m \u001b[1m2s\u001b[0m 89ms/step - accuracy: 0.6472 - loss: 1.1096\n",
      "Test accuracy: 0.6520324945449829\n"
     ]
    }
   ],
   "source": [
    "# Evaluate the model\n",
    "test_loss, test_acc = model.evaluate(X_test.reshape(X_test.shape[0], X_test.shape[1], 1), y_test)\n",
    "print(f'Test accuracy: {test_acc}')"
   ]
  },
  {
   "cell_type": "code",
   "execution_count": 92,
   "id": "973804fc",
   "metadata": {},
   "outputs": [],
   "source": [
    "# Function to predict emotion\n",
    "def predict_emotion(file_path):\n",
    "    features = extract_features(file_path)\n",
    "    features = (features - mean) / std\n",
    "    prediction = model.predict(features.reshape(1, -1, 1))\n",
    "    emotion_label = label_encoder.inverse_transform(prediction.argmax(axis=1))\n",
    "    return emotion_label[0]"
   ]
  },
  {
   "cell_type": "code",
   "execution_count": 96,
   "id": "80c15d39",
   "metadata": {},
   "outputs": [
    {
     "name": "stdout",
     "output_type": "stream",
     "text": [
      "\u001b[1m1/1\u001b[0m \u001b[32m━━━━━━━━━━━━━━━━━━━━\u001b[0m\u001b[37m\u001b[0m \u001b[1m0s\u001b[0m 34ms/step\n",
      "Predicted emotion: surprised\n"
     ]
    }
   ],
   "source": [
    "# Test the model with a sample file\n",
    "sample_file = 'C:/Users\\Dell/OneDrive/Desktop/Voice_emotion_detection/ravdess/Actor_02/03-01-08-01-02-01-02.wav'\n",
    "predicted_emotion = predict_emotion(sample_file)\n",
    "print(f'Predicted emotion: {predicted_emotion}')"
   ]
  },
  {
   "cell_type": "code",
   "execution_count": null,
   "id": "71810bdb",
   "metadata": {},
   "outputs": [],
   "source": []
  }
 ],
 "metadata": {
  "kernelspec": {
   "display_name": "Python 3 (ipykernel)",
   "language": "python",
   "name": "python3"
  },
  "language_info": {
   "codemirror_mode": {
    "name": "ipython",
    "version": 3
   },
   "file_extension": ".py",
   "mimetype": "text/x-python",
   "name": "python",
   "nbconvert_exporter": "python",
   "pygments_lexer": "ipython3",
   "version": "3.11.4"
  }
 },
 "nbformat": 4,
 "nbformat_minor": 5
}
